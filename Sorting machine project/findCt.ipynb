{
 "cells": [
  {
   "cell_type": "code",
   "execution_count": null,
   "metadata": {},
   "outputs": [],
   "source": [
    "def findCt(image):\n",
    "    gau = cv2.GaussianBlur(image, (11, 11), 0)\n",
    "    gray = cv2.cvtColor(gau, cv2.COLOR_BGR2GRAY)\n",
    "    ret, thresh = cv2.threshold(gray, 180, 255, 0)\n",
    "    thresh = cv2.bitwise_not(thresh)\n",
    "    contours = cv2.findContours(thresh, cv2.RETR_TREE, cv2.CHAIN_APPROX_SIMPLE)[0]\n",
    "    image_contour = cv2.drawContours(image, contours, -1, (0, 0, 255), 4)\n",
    "    contour = contours[0]\n",
    "    x, y, w, h = cv2.boundingRect(contour)\n",
    "    result = cv2.rectangle(image, (x, y), (x + w, y + h), (255, 0, 0), 3)\n",
    "    plt.imshow(cv2.cvtColor(result, cv2.COLOR_BGR2RGB))\n",
    "    plt.show()"
   ]
  }
 ],
 "metadata": {
  "kernelspec": {
   "display_name": "Python 3",
   "language": "python",
   "name": "python3"
  },
  "language_info": {
   "codemirror_mode": {
    "name": "ipython",
    "version": 3
   },
   "file_extension": ".py",
   "mimetype": "text/x-python",
   "name": "python",
   "nbconvert_exporter": "python",
   "pygments_lexer": "ipython3",
   "version": "3.8.4"
  }
 },
 "nbformat": 4,
 "nbformat_minor": 4
}
